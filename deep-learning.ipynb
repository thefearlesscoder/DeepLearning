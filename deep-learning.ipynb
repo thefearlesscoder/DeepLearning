{
 "cells": [
  {
   "cell_type": "code",
   "execution_count": 1,
   "id": "0601d0b4",
   "metadata": {
    "execution": {
     "iopub.execute_input": "2025-04-11T02:29:55.771177Z",
     "iopub.status.busy": "2025-04-11T02:29:55.770876Z",
     "iopub.status.idle": "2025-04-11T02:29:55.778801Z",
     "shell.execute_reply": "2025-04-11T02:29:55.777894Z"
    },
    "papermill": {
     "duration": 0.014115,
     "end_time": "2025-04-11T02:29:55.780271",
     "exception": false,
     "start_time": "2025-04-11T02:29:55.766156",
     "status": "completed"
    },
    "tags": []
   },
   "outputs": [],
   "source": [
    "import numpy as np\n",
    "\n",
    "docs = ['go india',\n",
    "\t\t'india india',\n",
    "\t\t'hip hip hurray',\n",
    "\t\t'jeetega bhai jeetega india jeetega',\n",
    "\t\t'bharat mata ki jai',\n",
    "\t\t'kohli kohli',\n",
    "\t\t'sachin sachin',\n",
    "\t\t'dhoni dhoni',\n",
    "\t\t'modi ji ki jai',\n",
    "\t\t'inquilab zindabad']"
   ]
  },
  {
   "cell_type": "code",
   "execution_count": 2,
   "id": "c8a7baec",
   "metadata": {
    "execution": {
     "iopub.execute_input": "2025-04-11T02:29:55.788049Z",
     "iopub.status.busy": "2025-04-11T02:29:55.787395Z",
     "iopub.status.idle": "2025-04-11T02:30:14.545822Z",
     "shell.execute_reply": "2025-04-11T02:30:14.544971Z"
    },
    "papermill": {
     "duration": 18.764008,
     "end_time": "2025-04-11T02:30:14.547644",
     "exception": false,
     "start_time": "2025-04-11T02:29:55.783636",
     "status": "completed"
    },
    "tags": []
   },
   "outputs": [
    {
     "name": "stderr",
     "output_type": "stream",
     "text": [
      "2025-04-11 02:29:57.755464: E external/local_xla/xla/stream_executor/cuda/cuda_fft.cc:477] Unable to register cuFFT factory: Attempting to register factory for plugin cuFFT when one has already been registered\n",
      "WARNING: All log messages before absl::InitializeLog() is called are written to STDERR\n",
      "E0000 00:00:1744338598.018402      13 cuda_dnn.cc:8310] Unable to register cuDNN factory: Attempting to register factory for plugin cuDNN when one has already been registered\n",
      "E0000 00:00:1744338598.093697      13 cuda_blas.cc:1418] Unable to register cuBLAS factory: Attempting to register factory for plugin cuBLAS when one has already been registered\n"
     ]
    }
   ],
   "source": [
    "from tensorflow.keras.preprocessing.text import Tokenizer\n",
    "tokenizer = Tokenizer(oov_token='<nothing>')"
   ]
  },
  {
   "cell_type": "code",
   "execution_count": 3,
   "id": "022f9cb4",
   "metadata": {
    "execution": {
     "iopub.execute_input": "2025-04-11T02:30:14.555516Z",
     "iopub.status.busy": "2025-04-11T02:30:14.554877Z",
     "iopub.status.idle": "2025-04-11T02:30:14.559790Z",
     "shell.execute_reply": "2025-04-11T02:30:14.558780Z"
    },
    "papermill": {
     "duration": 0.010521,
     "end_time": "2025-04-11T02:30:14.561363",
     "exception": false,
     "start_time": "2025-04-11T02:30:14.550842",
     "status": "completed"
    },
    "tags": []
   },
   "outputs": [],
   "source": [
    "tokenizer.fit_on_texts(docs)"
   ]
  },
  {
   "cell_type": "code",
   "execution_count": 4,
   "id": "ab1fa4af",
   "metadata": {
    "execution": {
     "iopub.execute_input": "2025-04-11T02:30:14.568567Z",
     "iopub.status.busy": "2025-04-11T02:30:14.568259Z",
     "iopub.status.idle": "2025-04-11T02:30:14.574940Z",
     "shell.execute_reply": "2025-04-11T02:30:14.574004Z"
    },
    "papermill": {
     "duration": 0.011925,
     "end_time": "2025-04-11T02:30:14.576400",
     "exception": false,
     "start_time": "2025-04-11T02:30:14.564475",
     "status": "completed"
    },
    "tags": []
   },
   "outputs": [
    {
     "data": {
      "text/plain": [
       "{'<nothing>': 1,\n",
       " 'india': 2,\n",
       " 'jeetega': 3,\n",
       " 'hip': 4,\n",
       " 'ki': 5,\n",
       " 'jai': 6,\n",
       " 'kohli': 7,\n",
       " 'sachin': 8,\n",
       " 'dhoni': 9,\n",
       " 'go': 10,\n",
       " 'hurray': 11,\n",
       " 'bhai': 12,\n",
       " 'bharat': 13,\n",
       " 'mata': 14,\n",
       " 'modi': 15,\n",
       " 'ji': 16,\n",
       " 'inquilab': 17,\n",
       " 'zindabad': 18}"
      ]
     },
     "execution_count": 4,
     "metadata": {},
     "output_type": "execute_result"
    }
   ],
   "source": [
    "tokenizer.word_index"
   ]
  },
  {
   "cell_type": "markdown",
   "id": "35714849",
   "metadata": {
    "papermill": {
     "duration": 0.004026,
     "end_time": "2025-04-11T02:30:14.583703",
     "exception": false,
     "start_time": "2025-04-11T02:30:14.579677",
     "status": "completed"
    },
    "tags": []
   },
   "source": [
    "Find word count -> frequency of each word"
   ]
  },
  {
   "cell_type": "code",
   "execution_count": 5,
   "id": "4871b873",
   "metadata": {
    "execution": {
     "iopub.execute_input": "2025-04-11T02:30:14.591340Z",
     "iopub.status.busy": "2025-04-11T02:30:14.590404Z",
     "iopub.status.idle": "2025-04-11T02:30:14.597220Z",
     "shell.execute_reply": "2025-04-11T02:30:14.596401Z"
    },
    "papermill": {
     "duration": 0.011999,
     "end_time": "2025-04-11T02:30:14.598681",
     "exception": false,
     "start_time": "2025-04-11T02:30:14.586682",
     "status": "completed"
    },
    "tags": []
   },
   "outputs": [
    {
     "data": {
      "text/plain": [
       "OrderedDict([('go', 1),\n",
       "             ('india', 4),\n",
       "             ('hip', 2),\n",
       "             ('hurray', 1),\n",
       "             ('jeetega', 3),\n",
       "             ('bhai', 1),\n",
       "             ('bharat', 1),\n",
       "             ('mata', 1),\n",
       "             ('ki', 2),\n",
       "             ('jai', 2),\n",
       "             ('kohli', 2),\n",
       "             ('sachin', 2),\n",
       "             ('dhoni', 2),\n",
       "             ('modi', 1),\n",
       "             ('ji', 1),\n",
       "             ('inquilab', 1),\n",
       "             ('zindabad', 1)])"
      ]
     },
     "execution_count": 5,
     "metadata": {},
     "output_type": "execute_result"
    }
   ],
   "source": [
    "tokenizer.word_counts"
   ]
  },
  {
   "cell_type": "markdown",
   "id": "0e483490",
   "metadata": {
    "papermill": {
     "duration": 0.002948,
     "end_time": "2025-04-11T02:30:14.604909",
     "exception": false,
     "start_time": "2025-04-11T02:30:14.601961",
     "status": "completed"
    },
    "tags": []
   },
   "source": [
    "Find number of Rows/ sentences in the document"
   ]
  },
  {
   "cell_type": "code",
   "execution_count": 6,
   "id": "b0680709",
   "metadata": {
    "execution": {
     "iopub.execute_input": "2025-04-11T02:30:14.612200Z",
     "iopub.status.busy": "2025-04-11T02:30:14.611901Z",
     "iopub.status.idle": "2025-04-11T02:30:14.617114Z",
     "shell.execute_reply": "2025-04-11T02:30:14.616426Z"
    },
    "papermill": {
     "duration": 0.010362,
     "end_time": "2025-04-11T02:30:14.618323",
     "exception": false,
     "start_time": "2025-04-11T02:30:14.607961",
     "status": "completed"
    },
    "tags": []
   },
   "outputs": [
    {
     "data": {
      "text/plain": [
       "10"
      ]
     },
     "execution_count": 6,
     "metadata": {},
     "output_type": "execute_result"
    }
   ],
   "source": [
    "tokenizer.document_count"
   ]
  },
  {
   "cell_type": "markdown",
   "id": "5eace986",
   "metadata": {
    "papermill": {
     "duration": 0.002973,
     "end_time": "2025-04-11T02:30:14.624614",
     "exception": false,
     "start_time": "2025-04-11T02:30:14.621641",
     "status": "completed"
    },
    "tags": []
   },
   "source": [
    "Generate the sequences of te sentenes"
   ]
  },
  {
   "cell_type": "code",
   "execution_count": 7,
   "id": "64315239",
   "metadata": {
    "execution": {
     "iopub.execute_input": "2025-04-11T02:30:14.631909Z",
     "iopub.status.busy": "2025-04-11T02:30:14.631567Z",
     "iopub.status.idle": "2025-04-11T02:30:14.637893Z",
     "shell.execute_reply": "2025-04-11T02:30:14.636984Z"
    },
    "papermill": {
     "duration": 0.011729,
     "end_time": "2025-04-11T02:30:14.639402",
     "exception": false,
     "start_time": "2025-04-11T02:30:14.627673",
     "status": "completed"
    },
    "tags": []
   },
   "outputs": [
    {
     "data": {
      "text/plain": [
       "[[10, 2],\n",
       " [2, 2],\n",
       " [4, 4, 11],\n",
       " [3, 12, 3, 2, 3],\n",
       " [13, 14, 5, 6],\n",
       " [7, 7],\n",
       " [8, 8],\n",
       " [9, 9],\n",
       " [15, 16, 5, 6],\n",
       " [17, 18]]"
      ]
     },
     "execution_count": 7,
     "metadata": {},
     "output_type": "execute_result"
    }
   ],
   "source": [
    "sequences = tokenizer.texts_to_sequences(docs)\n",
    "sequences"
   ]
  },
  {
   "cell_type": "markdown",
   "id": "2cc33d78",
   "metadata": {
    "papermill": {
     "duration": 0.003107,
     "end_time": "2025-04-11T02:30:14.646008",
     "exception": false,
     "start_time": "2025-04-11T02:30:14.642901",
     "status": "completed"
    },
    "tags": []
   },
   "source": [
    "above sentences ar not in same length - apply padding"
   ]
  },
  {
   "cell_type": "code",
   "execution_count": 8,
   "id": "e66e5121",
   "metadata": {
    "execution": {
     "iopub.execute_input": "2025-04-11T02:30:14.653744Z",
     "iopub.status.busy": "2025-04-11T02:30:14.653357Z",
     "iopub.status.idle": "2025-04-11T02:30:14.663960Z",
     "shell.execute_reply": "2025-04-11T02:30:14.663111Z"
    },
    "papermill": {
     "duration": 0.016384,
     "end_time": "2025-04-11T02:30:14.665510",
     "exception": false,
     "start_time": "2025-04-11T02:30:14.649126",
     "status": "completed"
    },
    "tags": []
   },
   "outputs": [
    {
     "data": {
      "text/plain": [
       "array([[10,  2,  0,  0,  0],\n",
       "       [ 2,  2,  0,  0,  0],\n",
       "       [ 4,  4, 11,  0,  0],\n",
       "       [ 3, 12,  3,  2,  3],\n",
       "       [13, 14,  5,  6,  0],\n",
       "       [ 7,  7,  0,  0,  0],\n",
       "       [ 8,  8,  0,  0,  0],\n",
       "       [ 9,  9,  0,  0,  0],\n",
       "       [15, 16,  5,  6,  0],\n",
       "       [17, 18,  0,  0,  0]], dtype=int32)"
      ]
     },
     "execution_count": 8,
     "metadata": {},
     "output_type": "execute_result"
    }
   ],
   "source": [
    "from tensorflow.keras.utils import pad_sequences\n",
    "sequences = pad_sequences(sequences, padding='post') # post-> add 0 at the end f ech senence\n",
    "sequences"
   ]
  },
  {
   "cell_type": "code",
   "execution_count": 9,
   "id": "df455e7a",
   "metadata": {
    "execution": {
     "iopub.execute_input": "2025-04-11T02:30:14.673576Z",
     "iopub.status.busy": "2025-04-11T02:30:14.673264Z",
     "iopub.status.idle": "2025-04-11T02:30:14.680471Z",
     "shell.execute_reply": "2025-04-11T02:30:14.679655Z"
    },
    "papermill": {
     "duration": 0.013115,
     "end_time": "2025-04-11T02:30:14.682131",
     "exception": false,
     "start_time": "2025-04-11T02:30:14.669016",
     "status": "completed"
    },
    "tags": []
   },
   "outputs": [],
   "source": [
    "#import dataset\n",
    "from tensorflow.keras.datasets import imdb\n",
    "# import model type\n",
    "from tensorflow.keras import Sequential\n",
    "#inport various layes for the rnn\n",
    "from tensorflow.keras.layers import Dense, SimpleRNN, Embedding, Flatten"
   ]
  },
  {
   "cell_type": "code",
   "execution_count": 10,
   "id": "b7492490",
   "metadata": {
    "execution": {
     "iopub.execute_input": "2025-04-11T02:30:14.690111Z",
     "iopub.status.busy": "2025-04-11T02:30:14.689818Z",
     "iopub.status.idle": "2025-04-11T02:30:18.661576Z",
     "shell.execute_reply": "2025-04-11T02:30:18.660495Z"
    },
    "papermill": {
     "duration": 3.977609,
     "end_time": "2025-04-11T02:30:18.663264",
     "exception": false,
     "start_time": "2025-04-11T02:30:14.685655",
     "status": "completed"
    },
    "tags": []
   },
   "outputs": [
    {
     "name": "stdout",
     "output_type": "stream",
     "text": [
      "Downloading data from https://storage.googleapis.com/tensorflow/tf-keras-datasets/imdb.npz\n",
      "\u001b[1m17464789/17464789\u001b[0m \u001b[32m━━━━━━━━━━━━━━━━━━━━\u001b[0m\u001b[37m\u001b[0m \u001b[1m0s\u001b[0m 0us/step\n"
     ]
    }
   ],
   "source": [
    "#split data into training and testing.\n",
    "(x_train, y_train),(x_test, y_test) = imdb.load_data();"
   ]
  },
  {
   "cell_type": "code",
   "execution_count": 11,
   "id": "c21a16fa",
   "metadata": {
    "execution": {
     "iopub.execute_input": "2025-04-11T02:30:18.672422Z",
     "iopub.status.busy": "2025-04-11T02:30:18.671577Z",
     "iopub.status.idle": "2025-04-11T02:30:18.679033Z",
     "shell.execute_reply": "2025-04-11T02:30:18.678204Z"
    },
    "papermill": {
     "duration": 0.013326,
     "end_time": "2025-04-11T02:30:18.680380",
     "exception": false,
     "start_time": "2025-04-11T02:30:18.667054",
     "status": "completed"
    },
    "tags": []
   },
   "outputs": [
    {
     "data": {
      "text/plain": [
       "[1,\n",
       " 14,\n",
       " 22,\n",
       " 16,\n",
       " 43,\n",
       " 530,\n",
       " 973,\n",
       " 1622,\n",
       " 1385,\n",
       " 65,\n",
       " 458,\n",
       " 4468,\n",
       " 66,\n",
       " 3941,\n",
       " 4,\n",
       " 173,\n",
       " 36,\n",
       " 256,\n",
       " 5,\n",
       " 25,\n",
       " 100,\n",
       " 43,\n",
       " 838,\n",
       " 112,\n",
       " 50,\n",
       " 670,\n",
       " 22665,\n",
       " 9,\n",
       " 35,\n",
       " 480,\n",
       " 284,\n",
       " 5,\n",
       " 150,\n",
       " 4,\n",
       " 172,\n",
       " 112,\n",
       " 167,\n",
       " 21631,\n",
       " 336,\n",
       " 385,\n",
       " 39,\n",
       " 4,\n",
       " 172,\n",
       " 4536,\n",
       " 1111,\n",
       " 17,\n",
       " 546,\n",
       " 38,\n",
       " 13,\n",
       " 447,\n",
       " 4,\n",
       " 192,\n",
       " 50,\n",
       " 16,\n",
       " 6,\n",
       " 147,\n",
       " 2025,\n",
       " 19,\n",
       " 14,\n",
       " 22,\n",
       " 4,\n",
       " 1920,\n",
       " 4613,\n",
       " 469,\n",
       " 4,\n",
       " 22,\n",
       " 71,\n",
       " 87,\n",
       " 12,\n",
       " 16,\n",
       " 43,\n",
       " 530,\n",
       " 38,\n",
       " 76,\n",
       " 15,\n",
       " 13,\n",
       " 1247,\n",
       " 4,\n",
       " 22,\n",
       " 17,\n",
       " 515,\n",
       " 17,\n",
       " 12,\n",
       " 16,\n",
       " 626,\n",
       " 18,\n",
       " 19193,\n",
       " 5,\n",
       " 62,\n",
       " 386,\n",
       " 12,\n",
       " 8,\n",
       " 316,\n",
       " 8,\n",
       " 106,\n",
       " 5,\n",
       " 4,\n",
       " 2223,\n",
       " 5244,\n",
       " 16,\n",
       " 480,\n",
       " 66,\n",
       " 3785,\n",
       " 33,\n",
       " 4,\n",
       " 130,\n",
       " 12,\n",
       " 16,\n",
       " 38,\n",
       " 619,\n",
       " 5,\n",
       " 25,\n",
       " 124,\n",
       " 51,\n",
       " 36,\n",
       " 135,\n",
       " 48,\n",
       " 25,\n",
       " 1415,\n",
       " 33,\n",
       " 6,\n",
       " 22,\n",
       " 12,\n",
       " 215,\n",
       " 28,\n",
       " 77,\n",
       " 52,\n",
       " 5,\n",
       " 14,\n",
       " 407,\n",
       " 16,\n",
       " 82,\n",
       " 10311,\n",
       " 8,\n",
       " 4,\n",
       " 107,\n",
       " 117,\n",
       " 5952,\n",
       " 15,\n",
       " 256,\n",
       " 4,\n",
       " 31050,\n",
       " 7,\n",
       " 3766,\n",
       " 5,\n",
       " 723,\n",
       " 36,\n",
       " 71,\n",
       " 43,\n",
       " 530,\n",
       " 476,\n",
       " 26,\n",
       " 400,\n",
       " 317,\n",
       " 46,\n",
       " 7,\n",
       " 4,\n",
       " 12118,\n",
       " 1029,\n",
       " 13,\n",
       " 104,\n",
       " 88,\n",
       " 4,\n",
       " 381,\n",
       " 15,\n",
       " 297,\n",
       " 98,\n",
       " 32,\n",
       " 2071,\n",
       " 56,\n",
       " 26,\n",
       " 141,\n",
       " 6,\n",
       " 194,\n",
       " 7486,\n",
       " 18,\n",
       " 4,\n",
       " 226,\n",
       " 22,\n",
       " 21,\n",
       " 134,\n",
       " 476,\n",
       " 26,\n",
       " 480,\n",
       " 5,\n",
       " 144,\n",
       " 30,\n",
       " 5535,\n",
       " 18,\n",
       " 51,\n",
       " 36,\n",
       " 28,\n",
       " 224,\n",
       " 92,\n",
       " 25,\n",
       " 104,\n",
       " 4,\n",
       " 226,\n",
       " 65,\n",
       " 16,\n",
       " 38,\n",
       " 1334,\n",
       " 88,\n",
       " 12,\n",
       " 16,\n",
       " 283,\n",
       " 5,\n",
       " 16,\n",
       " 4472,\n",
       " 113,\n",
       " 103,\n",
       " 32,\n",
       " 15,\n",
       " 16,\n",
       " 5345,\n",
       " 19,\n",
       " 178,\n",
       " 32]"
      ]
     },
     "execution_count": 11,
     "metadata": {},
     "output_type": "execute_result"
    }
   ],
   "source": [
    "x_train[0]\n"
   ]
  },
  {
   "cell_type": "code",
   "execution_count": null,
   "id": "b18fac22",
   "metadata": {
    "papermill": {
     "duration": 0.003546,
     "end_time": "2025-04-11T02:30:18.687971",
     "exception": false,
     "start_time": "2025-04-11T02:30:18.684425",
     "status": "completed"
    },
    "tags": []
   },
   "outputs": [],
   "source": []
  }
 ],
 "metadata": {
  "kaggle": {
   "accelerator": "none",
   "dataSources": [],
   "dockerImageVersionId": 31012,
   "isGpuEnabled": false,
   "isInternetEnabled": true,
   "language": "python",
   "sourceType": "notebook"
  },
  "kernelspec": {
   "display_name": "Python 3",
   "language": "python",
   "name": "python3"
  },
  "language_info": {
   "codemirror_mode": {
    "name": "ipython",
    "version": 3
   },
   "file_extension": ".py",
   "mimetype": "text/x-python",
   "name": "python",
   "nbconvert_exporter": "python",
   "pygments_lexer": "ipython3",
   "version": "3.11.11"
  },
  "papermill": {
   "default_parameters": {},
   "duration": 31.132961,
   "end_time": "2025-04-11T02:30:22.118922",
   "environment_variables": {},
   "exception": null,
   "input_path": "__notebook__.ipynb",
   "output_path": "__notebook__.ipynb",
   "parameters": {},
   "start_time": "2025-04-11T02:29:50.985961",
   "version": "2.6.0"
  }
 },
 "nbformat": 4,
 "nbformat_minor": 5
}
